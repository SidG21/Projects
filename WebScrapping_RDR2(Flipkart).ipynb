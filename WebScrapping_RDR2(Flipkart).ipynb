{
 "cells": [
  {
   "cell_type": "code",
   "execution_count": 1,
   "id": "3797347a",
   "metadata": {},
   "outputs": [
    {
     "name": "stdout",
     "output_type": "stream",
     "text": [
      "Requirement already satisfied: requests in c:\\users\\flust\\anaconda3\\lib\\site-packages (2.27.1)\n",
      "Requirement already satisfied: certifi>=2017.4.17 in c:\\users\\flust\\anaconda3\\lib\\site-packages (from requests) (2021.10.8)\n",
      "Requirement already satisfied: charset-normalizer~=2.0.0 in c:\\users\\flust\\anaconda3\\lib\\site-packages (from requests) (2.0.4)\n",
      "Requirement already satisfied: urllib3<1.27,>=1.21.1 in c:\\users\\flust\\anaconda3\\lib\\site-packages (from requests) (1.26.9)\n",
      "Requirement already satisfied: idna<4,>=2.5 in c:\\users\\flust\\anaconda3\\lib\\site-packages (from requests) (3.3)\n",
      "Note: you may need to restart the kernel to use updated packages.\n"
     ]
    }
   ],
   "source": [
    "pip install requests"
   ]
  },
  {
   "cell_type": "code",
   "execution_count": 2,
   "id": "4394b6d5",
   "metadata": {},
   "outputs": [
    {
     "name": "stdout",
     "output_type": "stream",
     "text": [
      "Collecting html5lib\n",
      "  Downloading html5lib-1.1-py2.py3-none-any.whl (112 kB)\n",
      "Requirement already satisfied: six>=1.9 in c:\\users\\flust\\anaconda3\\lib\\site-packages (from html5lib) (1.16.0)\n",
      "Requirement already satisfied: webencodings in c:\\users\\flust\\anaconda3\\lib\\site-packages (from html5lib) (0.5.1)\n",
      "Installing collected packages: html5lib\n",
      "Successfully installed html5lib-1.1\n",
      "Note: you may need to restart the kernel to use updated packages.\n"
     ]
    }
   ],
   "source": [
    "pip install html5lib"
   ]
  },
  {
   "cell_type": "code",
   "execution_count": 3,
   "id": "e19e8eee",
   "metadata": {},
   "outputs": [
    {
     "name": "stdout",
     "output_type": "stream",
     "text": [
      "Collecting bs4\n",
      "  Downloading bs4-0.0.1.tar.gz (1.1 kB)\n",
      "Requirement already satisfied: beautifulsoup4 in c:\\users\\flust\\anaconda3\\lib\\site-packages (from bs4) (4.11.1)\n",
      "Requirement already satisfied: soupsieve>1.2 in c:\\users\\flust\\anaconda3\\lib\\site-packages (from beautifulsoup4->bs4) (2.3.1)\n",
      "Building wheels for collected packages: bs4\n",
      "  Building wheel for bs4 (setup.py): started\n",
      "  Building wheel for bs4 (setup.py): finished with status 'done'\n",
      "  Created wheel for bs4: filename=bs4-0.0.1-py3-none-any.whl size=1272 sha256=653d37e6617973604bc9a31951a4b2e3770921207a1ab89deaeb096c27682ec5\n",
      "  Stored in directory: c:\\users\\flust\\appdata\\local\\pip\\cache\\wheels\\73\\2b\\cb\\099980278a0c9a3e57ff1a89875ec07bfa0b6fcbebb9a8cad3\n",
      "Successfully built bs4\n",
      "Installing collected packages: bs4\n",
      "Successfully installed bs4-0.0.1\n",
      "Note: you may need to restart the kernel to use updated packages.\n"
     ]
    }
   ],
   "source": [
    "pip install bs4"
   ]
  },
  {
   "cell_type": "code",
   "execution_count": 61,
   "id": "f9f8619e",
   "metadata": {},
   "outputs": [
    {
     "name": "stdout",
     "output_type": "stream",
     "text": [
      "Red Dead Redemption 2 Price in India - Buy Red Dead Redemption 2 online at Flipkart.com\n"
     ]
    }
   ],
   "source": [
    "import requests\n",
    "from bs4 import BeautifulSoup\n",
    "url= \"https://www.flipkart.com/red-dead-redemption-2/p/itmerqf4mfzk5527?pid=GAMERQEVYZGFRU3U&lid=LSTGAMERQEVYZGFRU3URINJ6M&marketplace=FLIPKART&q=red+dead+redemption+2&store=4rr%2Ffa6%2F27p%2Fmtr&srno=s_1_1&otracker=AS_QueryStore_OrganicAutoSuggest_1_12_na_na_na&otracker1=AS_QueryStore_OrganicAutoSuggest_1_12_na_na_na&fm=organic&iid=7e91f1b0-a6b3-44a5-aae4-24c2072d9503.GAMERQEVYZGFRU3U.SEARCH&ppt=hp&ppn=homepage&ssid=4o3lh9bthc0000001668393760582&qH=c50713753399a8b4\"\n",
    "#Step1:-Get The HTML\n",
    "r = requests.get(url)\n",
    "htmlContent = r.content\n",
    "#print(htmlContent)\n",
    "#Step2:-Parse the HTML\n",
    "soup = BeautifulSoup(htmlContent,'html.parser')\n",
    "#print(soup.prettify())\n",
    "#Step3:-HTML Tree Traversal\n",
    "#Gets the title of HTML page\n",
    "title=soup.title\n",
    "print(title.string)\n",
    "#Get the paragraphs from the page\n",
    "paras=soup.find_all('p')\n",
    "#print(paras)\n",
    "#Get all the acnhortags\n",
    "anchors=soup.find_all('a')\n",
    "#print(anchors)\n",
    "#print(soup.find('p'))"
   ]
  },
  {
   "cell_type": "code",
   "execution_count": 62,
   "id": "6e4a2a5f",
   "metadata": {},
   "outputs": [
    {
     "name": "stdout",
     "output_type": "stream",
     "text": [
      "[<div class=\"_30jeq3 _16Jk6d\">₹1,935</div>]\n"
     ]
    }
   ],
   "source": [
    "#Check for the game's price\n",
    "price=soup.find_all('div',class_='_30jeq3 _16Jk6d')\n",
    "print(price)"
   ]
  },
  {
   "cell_type": "code",
   "execution_count": 65,
   "id": "38f30c2f",
   "metadata": {
    "scrolled": true
   },
   "outputs": [
    {
     "data": {
      "text/plain": [
       "['₹1,935']"
      ]
     },
     "execution_count": 65,
     "metadata": {},
     "output_type": "execute_result"
    }
   ],
   "source": [
    "#Price of the game\n",
    "game_price=[]\n",
    "for i in range(0,len(price)):\n",
    "    game_price.append(price[i].get_text())\n",
    "game_price\n"
   ]
  },
  {
   "cell_type": "code",
   "execution_count": 68,
   "id": "edc9c5d7",
   "metadata": {},
   "outputs": [
    {
     "data": {
      "text/plain": [
       "[<p class=\"_2sc7ZR _2V5EHH\">Ajay Marath</p>,\n",
       " <p class=\"_2sc7ZR _2V5EHH\">Parth Bhingarde</p>,\n",
       " <p class=\"_2sc7ZR _2V5EHH\">SRIVATHSA PRADHAN</p>,\n",
       " <p class=\"_2sc7ZR _2V5EHH\">Parakram Bhatt</p>,\n",
       " <p class=\"_2sc7ZR _2V5EHH\">Sudip Dey</p>,\n",
       " <p class=\"_2sc7ZR _2V5EHH\">Utkarsh Sarkar</p>,\n",
       " <p class=\"_2sc7ZR _2V5EHH\">ruchika  batra</p>,\n",
       " <p class=\"_2sc7ZR _2V5EHH\">Sidharth Sreekumar</p>,\n",
       " <p class=\"_2sc7ZR _2V5EHH\">Anshul Shakya</p>,\n",
       " <p class=\"_2sc7ZR _2V5EHH\">Nishant Chourasia</p>]"
      ]
     },
     "execution_count": 68,
     "metadata": {},
     "output_type": "execute_result"
    }
   ],
   "source": [
    "#Customers Who Purchased The Game\n",
    "customers=soup.find_all(\"p\",class_=\"_2sc7ZR _2V5EHH\")\n",
    "customers"
   ]
  },
  {
   "cell_type": "code",
   "execution_count": 69,
   "id": "af89bd2f",
   "metadata": {},
   "outputs": [
    {
     "data": {
      "text/plain": [
       "['Ajay Marath',\n",
       " 'Parth Bhingarde',\n",
       " 'SRIVATHSA PRADHAN',\n",
       " 'Parakram Bhatt',\n",
       " 'Sudip Dey',\n",
       " 'Utkarsh Sarkar',\n",
       " 'ruchika  batra',\n",
       " 'Sidharth Sreekumar',\n",
       " 'Anshul Shakya',\n",
       " 'Nishant Chourasia']"
      ]
     },
     "execution_count": 69,
     "metadata": {},
     "output_type": "execute_result"
    }
   ],
   "source": [
    "#Properly arranging customer names\n",
    "customer_name=[]\n",
    "for i in range(0,len(customers)):\n",
    "    customer_name.append(customers[i].get_text())\n",
    "customer_name"
   ]
  },
  {
   "cell_type": "code",
   "execution_count": 70,
   "id": "50c22c5f",
   "metadata": {},
   "outputs": [
    {
     "data": {
      "text/plain": [
       "[<p class=\"_2-N8zT\">Brilliant</p>,\n",
       " <p class=\"_2-N8zT\">Awesome</p>,\n",
       " <p class=\"_2-N8zT\">Perfect product!</p>,\n",
       " <p class=\"_2-N8zT\">Best in the market!</p>,\n",
       " <p class=\"_2-N8zT\">Terrific purchase</p>,\n",
       " <p class=\"_2-N8zT\">Fabulous!</p>,\n",
       " <p class=\"_2-N8zT\">Best in the market!</p>,\n",
       " <p class=\"_2-N8zT\">Super!</p>,\n",
       " <p class=\"_2-N8zT\">Highly recommended</p>,\n",
       " <p class=\"_2-N8zT\">Best in the market!</p>]"
      ]
     },
     "execution_count": 70,
     "metadata": {},
     "output_type": "execute_result"
    }
   ],
   "source": [
    "#short reviews\n",
    "srt_review=soup.find_all(\"p\",class_=\"_2-N8zT\")\n",
    "srt_review"
   ]
  },
  {
   "cell_type": "code",
   "execution_count": 71,
   "id": "717b4066",
   "metadata": {},
   "outputs": [
    {
     "data": {
      "text/plain": [
       "['Brilliant',\n",
       " 'Awesome',\n",
       " 'Perfect product!',\n",
       " 'Best in the market!',\n",
       " 'Terrific purchase',\n",
       " 'Fabulous!',\n",
       " 'Best in the market!',\n",
       " 'Super!',\n",
       " 'Highly recommended',\n",
       " 'Best in the market!']"
      ]
     },
     "execution_count": 71,
     "metadata": {},
     "output_type": "execute_result"
    }
   ],
   "source": [
    "short_review=[]\n",
    "for i in range(0,len(srt_review)):\n",
    "    short_review.append(srt_review[i].get_text())\n",
    "short_review"
   ]
  },
  {
   "cell_type": "code",
   "execution_count": 74,
   "id": "6bcb1523",
   "metadata": {},
   "outputs": [
    {
     "name": "stdout",
     "output_type": "stream",
     "text": [
      "[<div class=\"_3TT44I\"><div class=\"WT_FyS\"><div class=\"XUp0WS\"><span class=\"_3j4Zjq row\"><img class=\"_3HLfAg\" height=\"18\" src=\"https://rukminim1.flixcart.com/www/36/36/promos/06/09/2016/c22c9fc4-0555-4460-8401-bf5c28d7ba29.png?q=90\" width=\"18\"/><li class=\"_16eBzU col\"><span class=\"u8dYXW\">Bank Offer</span><span>5% Cashback on Flipkart Axis Bank Card</span><div class=\"Bv11UC _1qNw3R\"><span class=\"fGhUR2\">T&amp;C</span></div></li></span><span class=\"_3j4Zjq row\"><img class=\"_3HLfAg\" height=\"18\" src=\"https://rukminim1.flixcart.com/www/36/36/promos/06/09/2016/c22c9fc4-0555-4460-8401-bf5c28d7ba29.png?q=90\" width=\"18\"/><li class=\"_16eBzU col\"><span class=\"u8dYXW\">Special Price</span><span>Get extra 10% off (price inclusive of cashback/coupon)</span><div class=\"Bv11UC _1qNw3R\"><span class=\"fGhUR2\">T&amp;C</span></div></li></span><span class=\"_3j4Zjq row\"><img class=\"_3HLfAg\" height=\"18\" src=\"https://rukminim1.flixcart.com/www/36/36/promos/06/09/2016/c22c9fc4-0555-4460-8401-bf5c28d7ba29.png?q=90\" width=\"18\"/><li class=\"_16eBzU col\"><span class=\"u8dYXW\">Partner Offer</span><span>Sign up for Flipkart Pay Later and get Flipkart Gift Card worth up to ₹500*</span><div class=\"Bv11UC _1qNw3R\"><span class=\"fGhUR2\">Know More</span></div></li></span><span class=\"_3j4Zjq row\"><img class=\"_3HLfAg\" height=\"18\" src=\"https://rukminim1.flixcart.com/www/36/36/promos/06/09/2016/c22c9fc4-0555-4460-8401-bf5c28d7ba29.png?q=90\" width=\"18\"/><li class=\"_16eBzU col\"><span class=\"u8dYXW\">Partner Offer</span><span>Buy this product and get upto ₹500 off on Flipkart Furniture</span><div class=\"Bv11UC _1qNw3R\"><span class=\"fGhUR2\">Know More</span></div></li></span></div></div></div>]\n"
     ]
    }
   ],
   "source": [
    "#offers on product\n",
    "offers=soup.find_all('div', class_='_3TT44I')\n",
    "print(offers)"
   ]
  },
  {
   "cell_type": "code",
   "execution_count": 75,
   "id": "2b8a4bef",
   "metadata": {},
   "outputs": [
    {
     "data": {
      "text/plain": [
       "['Bank Offer5% Cashback on Flipkart Axis Bank CardT&CSpecial PriceGet extra 10% off (price inclusive of cashback/coupon)T&CPartner OfferSign up for Flipkart Pay Later and get Flipkart Gift Card worth up to ₹500*Know MorePartner OfferBuy this product and get upto ₹500 off on Flipkart FurnitureKnow More']"
      ]
     },
     "execution_count": 75,
     "metadata": {},
     "output_type": "execute_result"
    }
   ],
   "source": [
    "#offers to buy the game\n",
    "offers_buy=[]\n",
    "for i in range(0,len(offers)):\n",
    "    offers_buy.append(offers[i].get_text())\n",
    "offers_buy"
   ]
  },
  {
   "cell_type": "code",
   "execution_count": 77,
   "id": "1358d6de",
   "metadata": {},
   "outputs": [
    {
     "data": {
      "text/plain": [
       "[<div class=\"_3LWZlK _1BLPMq\">5<img class=\"_1wB99o\" src=\"data:image/svg+xml;base64,PHN2ZyB4bWxucz0iaHR0cDovL3d3dy53My5vcmcvMjAwMC9zdmciIHdpZHRoPSIxMyIgaGVpZ2h0PSIxMiI+PHBhdGggZmlsbD0iI0ZGRiIgZD0iTTYuNSA5LjQzOWwtMy42NzQgMi4yMy45NC00LjI2LTMuMjEtMi44ODMgNC4yNTQtLjQwNEw2LjUuMTEybDEuNjkgNC4wMSA0LjI1NC40MDQtMy4yMSAyLjg4Mi45NCA0LjI2eiIvPjwvc3ZnPg==\"/></div>,\n",
       " <div class=\"_3LWZlK _1BLPMq\">5<img class=\"_1wB99o\" src=\"data:image/svg+xml;base64,PHN2ZyB4bWxucz0iaHR0cDovL3d3dy53My5vcmcvMjAwMC9zdmciIHdpZHRoPSIxMyIgaGVpZ2h0PSIxMiI+PHBhdGggZmlsbD0iI0ZGRiIgZD0iTTYuNSA5LjQzOWwtMy42NzQgMi4yMy45NC00LjI2LTMuMjEtMi44ODMgNC4yNTQtLjQwNEw2LjUuMTEybDEuNjkgNC4wMSA0LjI1NC40MDQtMy4yMSAyLjg4Mi45NCA0LjI2eiIvPjwvc3ZnPg==\"/></div>,\n",
       " <div class=\"_3LWZlK _1BLPMq\">5<img class=\"_1wB99o\" src=\"data:image/svg+xml;base64,PHN2ZyB4bWxucz0iaHR0cDovL3d3dy53My5vcmcvMjAwMC9zdmciIHdpZHRoPSIxMyIgaGVpZ2h0PSIxMiI+PHBhdGggZmlsbD0iI0ZGRiIgZD0iTTYuNSA5LjQzOWwtMy42NzQgMi4yMy45NC00LjI2LTMuMjEtMi44ODMgNC4yNTQtLjQwNEw2LjUuMTEybDEuNjkgNC4wMSA0LjI1NC40MDQtMy4yMSAyLjg4Mi45NCA0LjI2eiIvPjwvc3ZnPg==\"/></div>,\n",
       " <div class=\"_3LWZlK _1BLPMq\">5<img class=\"_1wB99o\" src=\"data:image/svg+xml;base64,PHN2ZyB4bWxucz0iaHR0cDovL3d3dy53My5vcmcvMjAwMC9zdmciIHdpZHRoPSIxMyIgaGVpZ2h0PSIxMiI+PHBhdGggZmlsbD0iI0ZGRiIgZD0iTTYuNSA5LjQzOWwtMy42NzQgMi4yMy45NC00LjI2LTMuMjEtMi44ODMgNC4yNTQtLjQwNEw2LjUuMTEybDEuNjkgNC4wMSA0LjI1NC40MDQtMy4yMSAyLjg4Mi45NCA0LjI2eiIvPjwvc3ZnPg==\"/></div>,\n",
       " <div class=\"_3LWZlK _1BLPMq\">5<img class=\"_1wB99o\" src=\"data:image/svg+xml;base64,PHN2ZyB4bWxucz0iaHR0cDovL3d3dy53My5vcmcvMjAwMC9zdmciIHdpZHRoPSIxMyIgaGVpZ2h0PSIxMiI+PHBhdGggZmlsbD0iI0ZGRiIgZD0iTTYuNSA5LjQzOWwtMy42NzQgMi4yMy45NC00LjI2LTMuMjEtMi44ODMgNC4yNTQtLjQwNEw2LjUuMTEybDEuNjkgNC4wMSA0LjI1NC40MDQtMy4yMSAyLjg4Mi45NCA0LjI2eiIvPjwvc3ZnPg==\"/></div>,\n",
       " <div class=\"_3LWZlK _1BLPMq\">5<img class=\"_1wB99o\" src=\"data:image/svg+xml;base64,PHN2ZyB4bWxucz0iaHR0cDovL3d3dy53My5vcmcvMjAwMC9zdmciIHdpZHRoPSIxMyIgaGVpZ2h0PSIxMiI+PHBhdGggZmlsbD0iI0ZGRiIgZD0iTTYuNSA5LjQzOWwtMy42NzQgMi4yMy45NC00LjI2LTMuMjEtMi44ODMgNC4yNTQtLjQwNEw2LjUuMTEybDEuNjkgNC4wMSA0LjI1NC40MDQtMy4yMSAyLjg4Mi45NCA0LjI2eiIvPjwvc3ZnPg==\"/></div>,\n",
       " <div class=\"_3LWZlK _1BLPMq\">5<img class=\"_1wB99o\" src=\"data:image/svg+xml;base64,PHN2ZyB4bWxucz0iaHR0cDovL3d3dy53My5vcmcvMjAwMC9zdmciIHdpZHRoPSIxMyIgaGVpZ2h0PSIxMiI+PHBhdGggZmlsbD0iI0ZGRiIgZD0iTTYuNSA5LjQzOWwtMy42NzQgMi4yMy45NC00LjI2LTMuMjEtMi44ODMgNC4yNTQtLjQwNEw2LjUuMTEybDEuNjkgNC4wMSA0LjI1NC40MDQtMy4yMSAyLjg4Mi45NCA0LjI2eiIvPjwvc3ZnPg==\"/></div>,\n",
       " <div class=\"_3LWZlK _1BLPMq\">5<img class=\"_1wB99o\" src=\"data:image/svg+xml;base64,PHN2ZyB4bWxucz0iaHR0cDovL3d3dy53My5vcmcvMjAwMC9zdmciIHdpZHRoPSIxMyIgaGVpZ2h0PSIxMiI+PHBhdGggZmlsbD0iI0ZGRiIgZD0iTTYuNSA5LjQzOWwtMy42NzQgMi4yMy45NC00LjI2LTMuMjEtMi44ODMgNC4yNTQtLjQwNEw2LjUuMTEybDEuNjkgNC4wMSA0LjI1NC40MDQtMy4yMSAyLjg4Mi45NCA0LjI2eiIvPjwvc3ZnPg==\"/></div>,\n",
       " <div class=\"_3LWZlK _1BLPMq\">5<img class=\"_1wB99o\" src=\"data:image/svg+xml;base64,PHN2ZyB4bWxucz0iaHR0cDovL3d3dy53My5vcmcvMjAwMC9zdmciIHdpZHRoPSIxMyIgaGVpZ2h0PSIxMiI+PHBhdGggZmlsbD0iI0ZGRiIgZD0iTTYuNSA5LjQzOWwtMy42NzQgMi4yMy45NC00LjI2LTMuMjEtMi44ODMgNC4yNTQtLjQwNEw2LjUuMTEybDEuNjkgNC4wMSA0LjI1NC40MDQtMy4yMSAyLjg4Mi45NCA0LjI2eiIvPjwvc3ZnPg==\"/></div>,\n",
       " <div class=\"_3LWZlK _1BLPMq\">5<img class=\"_1wB99o\" src=\"data:image/svg+xml;base64,PHN2ZyB4bWxucz0iaHR0cDovL3d3dy53My5vcmcvMjAwMC9zdmciIHdpZHRoPSIxMyIgaGVpZ2h0PSIxMiI+PHBhdGggZmlsbD0iI0ZGRiIgZD0iTTYuNSA5LjQzOWwtMy42NzQgMi4yMy45NC00LjI2LTMuMjEtMi44ODMgNC4yNTQtLjQwNEw2LjUuMTEybDEuNjkgNC4wMSA0LjI1NC40MDQtMy4yMSAyLjg4Mi45NCA0LjI2eiIvPjwvc3ZnPg==\"/></div>]"
      ]
     },
     "execution_count": 77,
     "metadata": {},
     "output_type": "execute_result"
    }
   ],
   "source": [
    "#Customer Ratings\n",
    "ratings=soup.find_all(\"div\",class_=\"_3LWZlK _1BLPMq\")\n",
    "ratings"
   ]
  },
  {
   "cell_type": "code",
   "execution_count": 78,
   "id": "c51b1d2a",
   "metadata": {},
   "outputs": [
    {
     "data": {
      "text/plain": [
       "['5', '5', '5', '5', '5', '5', '5', '5', '5', '5']"
      ]
     },
     "execution_count": 78,
     "metadata": {},
     "output_type": "execute_result"
    }
   ],
   "source": [
    "cust_ratings=[]\n",
    "for i in range(0,len(ratings)):\n",
    "    cust_ratings.append(ratings[i].get_text())\n",
    "cust_ratings"
   ]
  },
  {
   "cell_type": "code",
   "execution_count": 79,
   "id": "1b38c079",
   "metadata": {},
   "outputs": [
    {
     "data": {
      "text/plain": [
       "[<div class=\"t-ZTKy\"><div><div class=\"\">RDR 2😍😍😍. Wonderful and Beautiful game I ever played.Arthur Morgan💪💪.I can stay 2 or 3 days without food but can't stay a single day without Red Dead Redemption 2.Great work Rockstar</div><span class=\"_1H-bmy\"><span>READ MORE</span></span></div></div>,\n",
       " <div class=\"t-ZTKy\"><div><div class=\"\">Initially i was a bit worried as this was the first time i had pre-ordered a product from flipkart. But, the delivery was on time as promised great service.<br/><br/>As far as the game is concerned, undoubtedly one of the best games I have played. Get ready to forget the world around you for a bit.</div><span class=\"_1H-bmy\"><span>READ MORE</span></span></div></div>,\n",
       " <div class=\"t-ZTKy\"><div><div class=\"\">I didn't like this video game @ start. After some 10 missions, it attracted my interests. It attracted so hard with a force beyond gravity, as a result, I was sink into the game for hours and hours. One of the top notch video games ever built in gaming industry. The best realistic video games till I played : RDR 2, last of us, spider-man, mafia 2, max Payne 3, assassin's creed ezio series, tomb raider series.</div><span class=\"_1H-bmy\"><span>READ MORE</span></span></div></div>,\n",
       " <div class=\"t-ZTKy\"><div><div class=\"\">Rockstar has again outperformed every other studio that is out there. This probably is best game I have ever seen and played.<br/><br/>Graphics - Better Than real life.<br/>Story - Not played much but the game very firmly grasps you as soon as it starts which is rare.<br/>Open World - NPC interactions and other stuff is just mind blowing. Sometime I just stop amidst a mission to just watch the environment it is that good.<br/><br/>Just go for this guys. Don't miss out on this game of the generation .</div><span class=\"_1H-bmy\"><span>READ MORE</span></span></div></div>,\n",
       " <div class=\"t-ZTKy\"><div><div class=\"\">my comments isn't enough for this masterpiece and you guys don't read any comments or review just buy it play it and gain the never forgetting experience . this is a must play game before you died...and lastly the service of Flipkart is above in my benchmark....thanks Rockstar and thanks Flipkart...</div><span class=\"_1H-bmy\"><span>READ MORE</span></span></div></div>,\n",
       " <div class=\"t-ZTKy\"><div><div class=\"\">Guys this is it. We've peaked in gaming. I'm not here to convince any non buyers to get the game I'm here to tell you that it was the right decision buying it. also I'm so thankful that price decreases with time when it comes to ps4 games.  Get ready to be immersed in this world. Btw if you are a very busy person this game might not be for you because it requires you to put at least 3hr session in it every time you play it. So you may want to get Spider-Man Ps4 or God Of War if you don't alre...</div><span class=\"_1BWGvX\"><span>READ MORE</span></span></div></div>,\n",
       " <div class=\"t-ZTKy\"><div><div class=\"\">Very nice game. Awesome gameplay. Authentic western culture. Play sitting in a blanket and use headphones for great holiday experience.</div><span class=\"_1H-bmy\"><span>READ MORE</span></span></div></div>,\n",
       " <div class=\"t-ZTKy\"><div><div class=\"\">Absolutely spectacular! Just spectacular! Rockstar has proved yet again that they are the masters at creating massive and lively sandbox open worlds.<br/>There is not a single aspect that Red Dead 2 falls short of. The story, while it caused many dissatisfactions, was enjoyable.<br/>The graphics is mind boggling. Its eye candy, but also realistic. The grass, the flowers, the mud, all too stunning.<br/>The acting is great.<br/>The music is so soothing to hear while also being thrilling.<br/>The world is easily th...</div><span class=\"_1BWGvX\"><span>READ MORE</span></span></div></div>,\n",
       " <div class=\"t-ZTKy\"><div><div class=\"\">Best Rockstar Game 🎯   Delivery is on time. I take my disk from the Flipkart hub where I met a supervisor who is very politely  and helpful within 5min i took my cd ..<br/>Game Performance - 5/5 <br/>Duration for Installing with data - approx 85-95minutes(both disc 📀  )<br/>Story line- 4.5/5 <br/>Graphics and Visualisation- 5/5 <br/>Do purchase this Game . <br/>Money Worth for me</div><span class=\"_1H-bmy\"><span>READ MORE</span></span></div></div>,\n",
       " <div class=\"t-ZTKy\"><div><div class=\"\">best game of rockstar so far! game is awesome and graphics are mind blowing!!! the dilevery service is good and a worth buying product.</div><span class=\"_1H-bmy\"><span>READ MORE</span></span></div></div>]"
      ]
     },
     "execution_count": 79,
     "metadata": {},
     "output_type": "execute_result"
    }
   ],
   "source": [
    "#detailed reviews\n",
    "review=soup.find_all(\"div\",class_=\"t-ZTKy\")\n",
    "review"
   ]
  },
  {
   "cell_type": "code",
   "execution_count": 81,
   "id": "13b3d430",
   "metadata": {},
   "outputs": [
    {
     "data": {
      "text/plain": [
       "[\"RDR 2😍😍😍. Wonderful and Beautiful game I ever played.Arthur Morgan💪💪.I can stay 2 or 3 days without food but can't stay a single day without Red Dead Redemption 2.Great work RockstarREAD MORE\",\n",
       " 'Initially i was a bit worried as this was the first time i had pre-ordered a product from flipkart. But, the delivery was on time as promised great service.As far as the game is concerned, undoubtedly one of the best games I have played. Get ready to forget the world around you for a bit.READ MORE',\n",
       " \"I didn't like this video game @ start. After some 10 missions, it attracted my interests. It attracted so hard with a force beyond gravity, as a result, I was sink into the game for hours and hours. One of the top notch video games ever built in gaming industry. The best realistic video games till I played : RDR 2, last of us, spider-man, mafia 2, max Payne 3, assassin's creed ezio series, tomb raider series.READ MORE\",\n",
       " \"Rockstar has again outperformed every other studio that is out there. This probably is best game I have ever seen and played.Graphics - Better Than real life.Story - Not played much but the game very firmly grasps you as soon as it starts which is rare.Open World - NPC interactions and other stuff is just mind blowing. Sometime I just stop amidst a mission to just watch the environment it is that good.Just go for this guys. Don't miss out on this game of the generation .READ MORE\",\n",
       " \"my comments isn't enough for this masterpiece and you guys don't read any comments or review just buy it play it and gain the never forgetting experience . this is a must play game before you died...and lastly the service of Flipkart is above in my benchmark....thanks Rockstar and thanks Flipkart...READ MORE\",\n",
       " \"Guys this is it. We've peaked in gaming. I'm not here to convince any non buyers to get the game I'm here to tell you that it was the right decision buying it. also I'm so thankful that price decreases with time when it comes to ps4 games.  Get ready to be immersed in this world. Btw if you are a very busy person this game might not be for you because it requires you to put at least 3hr session in it every time you play it. So you may want to get Spider-Man Ps4 or God Of War if you don't alre...READ MORE\",\n",
       " 'Very nice game. Awesome gameplay. Authentic western culture. Play sitting in a blanket and use headphones for great holiday experience.READ MORE',\n",
       " 'Absolutely spectacular! Just spectacular! Rockstar has proved yet again that they are the masters at creating massive and lively sandbox open worlds.There is not a single aspect that Red Dead 2 falls short of. The story, while it caused many dissatisfactions, was enjoyable.The graphics is mind boggling. Its eye candy, but also realistic. The grass, the flowers, the mud, all too stunning.The acting is great.The music is so soothing to hear while also being thrilling.The world is easily th...READ MORE',\n",
       " 'Best Rockstar Game 🎯   Delivery is on time. I take my disk from the Flipkart hub where I met a supervisor who is very politely  and helpful within 5min i took my cd ..Game Performance - 5/5 Duration for Installing with data - approx 85-95minutes(both disc 📀  )Story line- 4.5/5 Graphics and Visualisation- 5/5 Do purchase this Game . Money Worth for meREAD MORE',\n",
       " 'best game of rockstar so far! game is awesome and graphics are mind blowing!!! the dilevery service is good and a worth buying product.READ MORE']"
      ]
     },
     "execution_count": 81,
     "metadata": {},
     "output_type": "execute_result"
    }
   ],
   "source": [
    "detailed_reviews=[]\n",
    "for i in range(0,len(review)):\n",
    "    detailed_reviews.append(review[i].get_text())\n",
    "detailed_reviews"
   ]
  },
  {
   "cell_type": "code",
   "execution_count": 82,
   "id": "d5f83acf",
   "metadata": {},
   "outputs": [],
   "source": [
    "#Importing pandas to apply tabular structure\n",
    "import pandas as pd"
   ]
  },
  {
   "cell_type": "code",
   "execution_count": 83,
   "id": "336205d1",
   "metadata": {},
   "outputs": [],
   "source": [
    "df=pd.DataFrame()\n",
    "df[\"Customer_Names\"]=customer_name\n",
    "df[\"Comments\"]=short_review\n",
    "df[\"Stars\"]=cust_ratings\n",
    "df[\"Review\"]=detailed_reviews"
   ]
  },
  {
   "cell_type": "code",
   "execution_count": 84,
   "id": "db4a45ea",
   "metadata": {},
   "outputs": [
    {
     "data": {
      "text/html": [
       "<div>\n",
       "<style scoped>\n",
       "    .dataframe tbody tr th:only-of-type {\n",
       "        vertical-align: middle;\n",
       "    }\n",
       "\n",
       "    .dataframe tbody tr th {\n",
       "        vertical-align: top;\n",
       "    }\n",
       "\n",
       "    .dataframe thead th {\n",
       "        text-align: right;\n",
       "    }\n",
       "</style>\n",
       "<table border=\"1\" class=\"dataframe\">\n",
       "  <thead>\n",
       "    <tr style=\"text-align: right;\">\n",
       "      <th></th>\n",
       "      <th>Customer_Names</th>\n",
       "      <th>Comments</th>\n",
       "      <th>Stars</th>\n",
       "      <th>Review</th>\n",
       "    </tr>\n",
       "  </thead>\n",
       "  <tbody>\n",
       "    <tr>\n",
       "      <th>0</th>\n",
       "      <td>Ajay Marath</td>\n",
       "      <td>Brilliant</td>\n",
       "      <td>5</td>\n",
       "      <td>RDR 2😍😍😍. Wonderful and Beautiful game I ever ...</td>\n",
       "    </tr>\n",
       "    <tr>\n",
       "      <th>1</th>\n",
       "      <td>Parth Bhingarde</td>\n",
       "      <td>Awesome</td>\n",
       "      <td>5</td>\n",
       "      <td>Initially i was a bit worried as this was the ...</td>\n",
       "    </tr>\n",
       "    <tr>\n",
       "      <th>2</th>\n",
       "      <td>SRIVATHSA PRADHAN</td>\n",
       "      <td>Perfect product!</td>\n",
       "      <td>5</td>\n",
       "      <td>I didn't like this video game @ start. After s...</td>\n",
       "    </tr>\n",
       "    <tr>\n",
       "      <th>3</th>\n",
       "      <td>Parakram Bhatt</td>\n",
       "      <td>Best in the market!</td>\n",
       "      <td>5</td>\n",
       "      <td>Rockstar has again outperformed every other st...</td>\n",
       "    </tr>\n",
       "    <tr>\n",
       "      <th>4</th>\n",
       "      <td>Sudip Dey</td>\n",
       "      <td>Terrific purchase</td>\n",
       "      <td>5</td>\n",
       "      <td>my comments isn't enough for this masterpiece ...</td>\n",
       "    </tr>\n",
       "    <tr>\n",
       "      <th>5</th>\n",
       "      <td>Utkarsh Sarkar</td>\n",
       "      <td>Fabulous!</td>\n",
       "      <td>5</td>\n",
       "      <td>Guys this is it. We've peaked in gaming. I'm n...</td>\n",
       "    </tr>\n",
       "    <tr>\n",
       "      <th>6</th>\n",
       "      <td>ruchika  batra</td>\n",
       "      <td>Best in the market!</td>\n",
       "      <td>5</td>\n",
       "      <td>Very nice game. Awesome gameplay. Authentic we...</td>\n",
       "    </tr>\n",
       "    <tr>\n",
       "      <th>7</th>\n",
       "      <td>Sidharth Sreekumar</td>\n",
       "      <td>Super!</td>\n",
       "      <td>5</td>\n",
       "      <td>Absolutely spectacular! Just spectacular! Rock...</td>\n",
       "    </tr>\n",
       "    <tr>\n",
       "      <th>8</th>\n",
       "      <td>Anshul Shakya</td>\n",
       "      <td>Highly recommended</td>\n",
       "      <td>5</td>\n",
       "      <td>Best Rockstar Game 🎯   Delivery is on time. I ...</td>\n",
       "    </tr>\n",
       "    <tr>\n",
       "      <th>9</th>\n",
       "      <td>Nishant Chourasia</td>\n",
       "      <td>Best in the market!</td>\n",
       "      <td>5</td>\n",
       "      <td>best game of rockstar so far! game is awesome ...</td>\n",
       "    </tr>\n",
       "  </tbody>\n",
       "</table>\n",
       "</div>"
      ],
      "text/plain": [
       "       Customer_Names             Comments Stars  \\\n",
       "0         Ajay Marath            Brilliant     5   \n",
       "1     Parth Bhingarde              Awesome     5   \n",
       "2   SRIVATHSA PRADHAN     Perfect product!     5   \n",
       "3      Parakram Bhatt  Best in the market!     5   \n",
       "4           Sudip Dey    Terrific purchase     5   \n",
       "5      Utkarsh Sarkar            Fabulous!     5   \n",
       "6      ruchika  batra  Best in the market!     5   \n",
       "7  Sidharth Sreekumar               Super!     5   \n",
       "8       Anshul Shakya   Highly recommended     5   \n",
       "9   Nishant Chourasia  Best in the market!     5   \n",
       "\n",
       "                                              Review  \n",
       "0  RDR 2😍😍😍. Wonderful and Beautiful game I ever ...  \n",
       "1  Initially i was a bit worried as this was the ...  \n",
       "2  I didn't like this video game @ start. After s...  \n",
       "3  Rockstar has again outperformed every other st...  \n",
       "4  my comments isn't enough for this masterpiece ...  \n",
       "5  Guys this is it. We've peaked in gaming. I'm n...  \n",
       "6  Very nice game. Awesome gameplay. Authentic we...  \n",
       "7  Absolutely spectacular! Just spectacular! Rock...  \n",
       "8  Best Rockstar Game 🎯   Delivery is on time. I ...  \n",
       "9  best game of rockstar so far! game is awesome ...  "
      ]
     },
     "execution_count": 84,
     "metadata": {},
     "output_type": "execute_result"
    }
   ],
   "source": [
    "df"
   ]
  },
  {
   "cell_type": "code",
   "execution_count": null,
   "id": "769f62c2",
   "metadata": {},
   "outputs": [],
   "source": []
  }
 ],
 "metadata": {
  "kernelspec": {
   "display_name": "Python 3 (ipykernel)",
   "language": "python",
   "name": "python3"
  },
  "language_info": {
   "codemirror_mode": {
    "name": "ipython",
    "version": 3
   },
   "file_extension": ".py",
   "mimetype": "text/x-python",
   "name": "python",
   "nbconvert_exporter": "python",
   "pygments_lexer": "ipython3",
   "version": "3.9.12"
  }
 },
 "nbformat": 4,
 "nbformat_minor": 5
}
